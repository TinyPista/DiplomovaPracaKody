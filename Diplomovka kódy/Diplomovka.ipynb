{
 "cells": [
  {
   "cell_type": "code",
   "execution_count": 1,
   "id": "6392ca44",
   "metadata": {},
   "outputs": [],
   "source": [
    "import pandas as pd\n",
    "import numpy as np\n",
    "import seaborn as sns\n",
    "import matplotlib.pyplot as plt\n",
    "from sklearn.metrics import confusion_matrix\n",
    "from sklearn.model_selection import train_test_split\n",
    "from datasets import load_dataset, Dataset\n",
    "from sklearn.ensemble import RandomForestClassifier\n",
    "from sklearn.metrics import accuracy_score, classification_report\n",
    "from sklearn.tree import DecisionTreeClassifier, plot_tree\n",
    "from sklearn.cluster import KMeans\n",
    "from sklearn.metrics import accuracy_score, classification_report\n",
    "from sklearn.metrics import accuracy_score, precision_score, recall_score, f1_score, confusion_matrix"
   ]
  },
  {
   "cell_type": "code",
   "execution_count": 2,
   "id": "be2a063e",
   "metadata": {},
   "outputs": [],
   "source": [
    "df = pd.read_csv(\"dataset_full_big3.csv\")"
   ]
  },
  {
   "cell_type": "code",
   "execution_count": 3,
   "id": "eed569b0",
   "metadata": {},
   "outputs": [
    {
     "data": {
      "text/html": [
       "<div>\n",
       "<style scoped>\n",
       "    .dataframe tbody tr th:only-of-type {\n",
       "        vertical-align: middle;\n",
       "    }\n",
       "\n",
       "    .dataframe tbody tr th {\n",
       "        vertical-align: top;\n",
       "    }\n",
       "\n",
       "    .dataframe thead th {\n",
       "        text-align: right;\n",
       "    }\n",
       "</style>\n",
       "<table border=\"1\" class=\"dataframe\">\n",
       "  <thead>\n",
       "    <tr style=\"text-align: right;\">\n",
       "      <th></th>\n",
       "      <th>Unnamed: 0</th>\n",
       "      <th>code</th>\n",
       "      <th>alzheimer</th>\n",
       "      <th>age</th>\n",
       "      <th>education_x</th>\n",
       "      <th>ws_big_big3_pauses</th>\n",
       "      <th>ws_big_big3_pauses_long</th>\n",
       "      <th>ws_big_big3_pauses_short</th>\n",
       "      <th>ws_big_big3_uniquewords</th>\n",
       "      <th>ws_big_big3_uniquewordsnorm</th>\n",
       "      <th>...</th>\n",
       "      <th>big3</th>\n",
       "      <th>big3_2</th>\n",
       "      <th>big3_pauses</th>\n",
       "      <th>big3_tags</th>\n",
       "      <th>big3_lema</th>\n",
       "      <th>big3_2_tags</th>\n",
       "      <th>big3_pauses_tags</th>\n",
       "      <th>big3_first_tag</th>\n",
       "      <th>big3_2_first_tag</th>\n",
       "      <th>big3_pauses_first_tag</th>\n",
       "    </tr>\n",
       "  </thead>\n",
       "  <tbody>\n",
       "    <tr>\n",
       "      <th>0</th>\n",
       "      <td>0</td>\n",
       "      <td>3fiigiv401</td>\n",
       "      <td>0</td>\n",
       "      <td>52</td>\n",
       "      <td>2</td>\n",
       "      <td>25</td>\n",
       "      <td>17</td>\n",
       "      <td>8</td>\n",
       "      <td>81</td>\n",
       "      <td>81</td>\n",
       "      <td>...</td>\n",
       "      <td>a muž v kuchyni varí a má aj pomocníka ten doč...</td>\n",
       "      <td>a muž v kuchyni varí a má aj pomocníka [spk] [...</td>\n",
       "      <td>[LONGSIL] a muž v kuchyni varí a má aj pomocní...</td>\n",
       "      <td>O SSms1 Eu6 SSfs6 VKesc+ O VKesc+ T SSms4 PFm...</td>\n",
       "      <td>a|s muž v kuchyňa variť a|s mať aj pomocník t...</td>\n",
       "      <td>O SSms1 Eu6 SSfs6 VKesc+ O VKesc+ T SSms4 xsp...</td>\n",
       "      <td>xlongsilx O SSms1 Eu6 SSfs6 VKesc+ O VKesc+ T...</td>\n",
       "      <td>OOOO SSSS EEEE SSSS VVVV OOOO VVVV TTTT SSSS ...</td>\n",
       "      <td>OOOO SSSS EEEE SSSS VVVV OOOO VVVV TTTT SSSS ...</td>\n",
       "      <td>xlongsilx OOOO SSSS EEEE SSSS VVVV OOOO VVVV ...</td>\n",
       "    </tr>\n",
       "    <tr>\n",
       "      <th>1</th>\n",
       "      <td>1</td>\n",
       "      <td>ysw9a5m701</td>\n",
       "      <td>0</td>\n",
       "      <td>66</td>\n",
       "      <td>2</td>\n",
       "      <td>23</td>\n",
       "      <td>9</td>\n",
       "      <td>14</td>\n",
       "      <td>97</td>\n",
       "      <td>97</td>\n",
       "      <td>...</td>\n",
       "      <td>a ja aj toto je toto je by mohol nevie dal ale...</td>\n",
       "      <td>a ja aj toto je toto je by mohol nevie dal ale...</td>\n",
       "      <td>[LONGSIL] a ja aj toto je toto je by [SHORTSIL...</td>\n",
       "      <td>O PPhs1 T PFns1 VKesc+ PFns1 VKesc+ Y VLesci+...</td>\n",
       "      <td>a|s ja aj toto byť|jesť toto byť|jesť by môcť...</td>\n",
       "      <td>O PPhs1 T PFns1 VKesc+ PFns1 VKesc+ Y VLesci+...</td>\n",
       "      <td>xlongsilx O PPhs1 T PFns1 VKesc+ PFns1 VKesc+...</td>\n",
       "      <td>OOOO PPPP TTTT PPPP VVVV PPPP VVVV YYYY VVVV ...</td>\n",
       "      <td>OOOO PPPP TTTT PPPP VVVV PPPP VVVV YYYY VVVV ...</td>\n",
       "      <td>xlongsilx OOOO PPPP TTTT PPPP VVVV PPPP VVVV ...</td>\n",
       "    </tr>\n",
       "    <tr>\n",
       "      <th>2</th>\n",
       "      <td>2</td>\n",
       "      <td>lpvvez2301</td>\n",
       "      <td>2</td>\n",
       "      <td>70</td>\n",
       "      <td>2</td>\n",
       "      <td>17</td>\n",
       "      <td>5</td>\n",
       "      <td>12</td>\n",
       "      <td>63</td>\n",
       "      <td>63</td>\n",
       "      <td>...</td>\n",
       "      <td>niekto tam buchol do tej do toho lustra dieťa ...</td>\n",
       "      <td>niekto tam buchol do tej [fil] do toho lustra ...</td>\n",
       "      <td>[LONGSIL] niekto tam buchol do tej [fil] do to...</td>\n",
       "      <td>PFms1 PD VLdscm+ Eu2 PFfs2 Eu2 PFis2 SSis2 SS...</td>\n",
       "      <td>niekto tam buchnúť do tá do ten luster dieťa ...</td>\n",
       "      <td>PFms1 PD VLdscm+ Eu2 PFfs2 xfilx Eu2 PFis2 SS...</td>\n",
       "      <td>xlongsilx PFms1 PD VLdscm+ Eu2 PFfs2 xfilx Eu...</td>\n",
       "      <td>PPPP PPPP VVVV EEEE PPPP EEEE PPPP SSSS SSSS ...</td>\n",
       "      <td>PPPP PPPP VVVV EEEE PPPP xfilx EEEE PPPP SSSS...</td>\n",
       "      <td>xlongsilx PPPP PPPP VVVV EEEE PPPP xfilx EEEE...</td>\n",
       "    </tr>\n",
       "    <tr>\n",
       "      <th>3</th>\n",
       "      <td>3</td>\n",
       "      <td>lpvvweke01</td>\n",
       "      <td>0</td>\n",
       "      <td>71</td>\n",
       "      <td>3</td>\n",
       "      <td>24</td>\n",
       "      <td>17</td>\n",
       "      <td>7</td>\n",
       "      <td>39</td>\n",
       "      <td>39</td>\n",
       "      <td>...</td>\n",
       "      <td>kuchyňa otec so synom chlapec sa snaží pomôcť ...</td>\n",
       "      <td>kuchyňa otec so synom chlapec sa snaží pomôcť ...</td>\n",
       "      <td>[LONGSIL] kuchyňa [LONGSIL] otec so synom [LON...</td>\n",
       "      <td>SSfs1 SSms1 Ev7 SSms7 SSms1 R VKesc+ VId+ SSm...</td>\n",
       "      <td>kuchyňa otec s syn chlapec sa snažiť pomôcť o...</td>\n",
       "      <td>SSfs1 SSms1 Ev7 SSms7 SSms1 R VKesc+ VId+ SSm...</td>\n",
       "      <td>xlongsilx SSfs1 xlongsilx SSms1 Ev7 SSms7 xlo...</td>\n",
       "      <td>SSSS SSSS EEEE SSSS SSSS RRRR VVVV VVVV SSSS ...</td>\n",
       "      <td>SSSS SSSS EEEE SSSS SSSS RRRR VVVV VVVV SSSS ...</td>\n",
       "      <td>xlongsilx SSSS xlongsilx SSSS EEEE SSSS xlong...</td>\n",
       "    </tr>\n",
       "    <tr>\n",
       "      <th>4</th>\n",
       "      <td>4</td>\n",
       "      <td>fgl9b8ym01</td>\n",
       "      <td>0</td>\n",
       "      <td>87</td>\n",
       "      <td>2</td>\n",
       "      <td>35</td>\n",
       "      <td>14</td>\n",
       "      <td>21</td>\n",
       "      <td>62</td>\n",
       "      <td>62</td>\n",
       "      <td>...</td>\n",
       "      <td>že no červený manžel no tak najsamprv malý zle...</td>\n",
       "      <td>že no červený manžel [@] no tak najsamprv malý...</td>\n",
       "      <td>[LONGSIL] že [SHORTSIL] no [SHORTSIL] červený ...</td>\n",
       "      <td>O O AAms1x SSms1 O T Dx AAis1x Dx VLdscm+ Eu4...</td>\n",
       "      <td>že no červený manžel no tak najsamprv malý zl...</td>\n",
       "      <td>O O AAms1x SSms1 xzavx O PD Dx AAis1x Dx VLds...</td>\n",
       "      <td>xlongsilx O xshortsilx xshortsilx AAms1x SSms...</td>\n",
       "      <td>OOOO OOOO AAAA SSSS OOOO TTTT DDDD AAAA DDDD ...</td>\n",
       "      <td>OOOO OOOO AAAA SSSS xzavx OOOO PPPP DDDD AAAA...</td>\n",
       "      <td>xlongsilx OOOO xshortsilx xshortsilx AAAA SSS...</td>\n",
       "    </tr>\n",
       "    <tr>\n",
       "      <th>...</th>\n",
       "      <td>...</td>\n",
       "      <td>...</td>\n",
       "      <td>...</td>\n",
       "      <td>...</td>\n",
       "      <td>...</td>\n",
       "      <td>...</td>\n",
       "      <td>...</td>\n",
       "      <td>...</td>\n",
       "      <td>...</td>\n",
       "      <td>...</td>\n",
       "      <td>...</td>\n",
       "      <td>...</td>\n",
       "      <td>...</td>\n",
       "      <td>...</td>\n",
       "      <td>...</td>\n",
       "      <td>...</td>\n",
       "      <td>...</td>\n",
       "      <td>...</td>\n",
       "      <td>...</td>\n",
       "      <td>...</td>\n",
       "      <td>...</td>\n",
       "    </tr>\n",
       "    <tr>\n",
       "      <th>765</th>\n",
       "      <td>827</td>\n",
       "      <td>tbc5xe1q01</td>\n",
       "      <td>0</td>\n",
       "      <td>62</td>\n",
       "      <td>1</td>\n",
       "      <td>23</td>\n",
       "      <td>16</td>\n",
       "      <td>7</td>\n",
       "      <td>51</td>\n",
       "      <td>51</td>\n",
       "      <td>...</td>\n",
       "      <td>no tak dobre chlapček stojí na stoličke naťahu...</td>\n",
       "      <td>no tak dobre chlapček stojí na stoličke naťahu...</td>\n",
       "      <td>[LONGSIL] no tak dobre chlapček stojí na stoli...</td>\n",
       "      <td>O PD Dx SSms1 VKesc+ Eu6 SSfs6 VKesc+ R Eu7 S...</td>\n",
       "      <td>no tak dobre chlapček stáť na stolička naťaho...</td>\n",
       "      <td>O PD Dx SSms1 VKesc+ Eu6 SSfs6 VKesc+ R Eu7 S...</td>\n",
       "      <td>xlongsilx O PD Dx SSms1 VKesc+ Eu6 SSfs6 VKes...</td>\n",
       "      <td>OOOO PPPP DDDD SSSS VVVV EEEE SSSS VVVV RRRR ...</td>\n",
       "      <td>OOOO PPPP DDDD SSSS VVVV EEEE SSSS VVVV RRRR ...</td>\n",
       "      <td>xlongsilx OOOO PPPP DDDD SSSS VVVV EEEE SSSS ...</td>\n",
       "    </tr>\n",
       "    <tr>\n",
       "      <th>766</th>\n",
       "      <td>828</td>\n",
       "      <td>lpvve13n01</td>\n",
       "      <td>2</td>\n",
       "      <td>71</td>\n",
       "      <td>3</td>\n",
       "      <td>15</td>\n",
       "      <td>11</td>\n",
       "      <td>4</td>\n",
       "      <td>33</td>\n",
       "      <td>33</td>\n",
       "      <td>...</td>\n",
       "      <td>v kuchyni je och otec asi zo synov ktorých zre...</td>\n",
       "      <td>[fil] v kuchyni [fil] je och [@] otec asi zo s...</td>\n",
       "      <td>[LONGSIL] [fil] v kuchyni [LONGSIL] [fil] je o...</td>\n",
       "      <td>Eu6 SSfs6 VKesc+ J SSms1 T Ev2 SSmp2 PAfp2 T ...</td>\n",
       "      <td>v kuchyňa byť|jesť och otec asi z syn ktorý z...</td>\n",
       "      <td>xfilx Eu6 SSfs6 xfilx VKesc+ J xzavx SSms1 T ...</td>\n",
       "      <td>xlongsilx xfilx Eu6 SSfs6 xlongsilx xfilx VKe...</td>\n",
       "      <td>EEEE SSSS VVVV JJJJ SSSS TTTT EEEE SSSS PPPP ...</td>\n",
       "      <td>xfilx EEEE SSSS xfilx VVVV JJJJ xzavx SSSS TT...</td>\n",
       "      <td>xlongsilx xfilx EEEE SSSS xlongsilx xfilx VVV...</td>\n",
       "    </tr>\n",
       "    <tr>\n",
       "      <th>767</th>\n",
       "      <td>829</td>\n",
       "      <td>uc9qsbtp01</td>\n",
       "      <td>0</td>\n",
       "      <td>61</td>\n",
       "      <td>2</td>\n",
       "      <td>24</td>\n",
       "      <td>16</td>\n",
       "      <td>8</td>\n",
       "      <td>37</td>\n",
       "      <td>37</td>\n",
       "      <td>...</td>\n",
       "      <td>tiež popísať obrázok je dieťa je chlap ovocie ...</td>\n",
       "      <td>[fil] tiež popísať obrázok je [spk] dieťa je c...</td>\n",
       "      <td>[LONGSIL] [fil] [LONGSIL] tiež popísať obrázok...</td>\n",
       "      <td>T VId+ SSis4 VKesc+ SSns1 VKesc+ SSms1 SSns4 ...</td>\n",
       "      <td>tiež popísať obrázok byť|jesť dieťa byť|jesť ...</td>\n",
       "      <td>xfilx T VId+ SSis4 VKesc+ xspkx SSns1 VKesc+ ...</td>\n",
       "      <td>xlongsilx xfilx xlongsilx T VId+ SSis4 xlongs...</td>\n",
       "      <td>TTTT VVVV SSSS VVVV SSSS VVVV SSSS SSSS SSSS ...</td>\n",
       "      <td>xfilx TTTT VVVV SSSS VVVV xspkx SSSS VVVV SSS...</td>\n",
       "      <td>xlongsilx xfilx xlongsilx TTTT VVVV SSSS xlon...</td>\n",
       "    </tr>\n",
       "    <tr>\n",
       "      <th>768</th>\n",
       "      <td>830</td>\n",
       "      <td>665ukdxf01</td>\n",
       "      <td>0</td>\n",
       "      <td>57</td>\n",
       "      <td>2</td>\n",
       "      <td>36</td>\n",
       "      <td>26</td>\n",
       "      <td>10</td>\n",
       "      <td>49</td>\n",
       "      <td>49</td>\n",
       "      <td>...</td>\n",
       "      <td>že na tomto obrázku vidíme muža ktorý má v ruk...</td>\n",
       "      <td>[fil] že na tomto obrázku vidíme muža ktorý má...</td>\n",
       "      <td>[LONGSIL] [fil] že na tomto obrázku vidíme [LO...</td>\n",
       "      <td>O Eu6 PFis6 SSis6 VKepa+ SSms4 PAms1 VKesc+ E...</td>\n",
       "      <td>že na tento obrázok vidieť muž ktorý mať v ru...</td>\n",
       "      <td>xfilx O Eu6 PFis6 SSis6 VKepa+ SSms4 PAms1 VK...</td>\n",
       "      <td>xlongsilx xfilx O Eu6 PFis6 SSis6 VKepa+ xlon...</td>\n",
       "      <td>OOOO EEEE PPPP SSSS VVVV SSSS PPPP VVVV EEEE ...</td>\n",
       "      <td>xfilx OOOO EEEE PPPP SSSS VVVV SSSS PPPP VVVV...</td>\n",
       "      <td>xlongsilx xfilx OOOO EEEE PPPP SSSS VVVV xlon...</td>\n",
       "    </tr>\n",
       "    <tr>\n",
       "      <th>769</th>\n",
       "      <td>831</td>\n",
       "      <td>kixj9dxj01</td>\n",
       "      <td>0</td>\n",
       "      <td>62</td>\n",
       "      <td>3</td>\n",
       "      <td>24</td>\n",
       "      <td>8</td>\n",
       "      <td>16</td>\n",
       "      <td>103</td>\n",
       "      <td>103</td>\n",
       "      <td>...</td>\n",
       "      <td>na obrázku vidím muža v kuchyni mi to ta veľmi...</td>\n",
       "      <td>na obrázku vidím muža v kuchyni mi to ta [spk]...</td>\n",
       "      <td>[LONGSIL] na obrázku vidím muža v kuchyni mi t...</td>\n",
       "      <td>Eu6 SSis6 VKesa+ SSms4 Eu6 SSfs6 PPhs3 PFns1 ...</td>\n",
       "      <td>na obrázok vidieť muž v kuchyňa ja|mi to ta v...</td>\n",
       "      <td>Eu6 SSis6 VKesa+ SSms4 Eu6 SSfs6 PPhs3 PFns1 ...</td>\n",
       "      <td>xlongsilx Eu6 SSis6 VKesa+ SSms4 Eu6 SSfs6 PP...</td>\n",
       "      <td>EEEE SSSS VVVV SSSS EEEE SSSS PPPP PPPP PPPP ...</td>\n",
       "      <td>EEEE SSSS VVVV SSSS EEEE SSSS PPPP PPPP PPPP ...</td>\n",
       "      <td>xlongsilx EEEE SSSS VVVV SSSS EEEE SSSS PPPP ...</td>\n",
       "    </tr>\n",
       "  </tbody>\n",
       "</table>\n",
       "<p>770 rows × 38 columns</p>\n",
       "</div>"
      ],
      "text/plain": [
       "     Unnamed: 0        code  alzheimer  age  education_x  ws_big_big3_pauses  \\\n",
       "0             0  3fiigiv401          0   52            2                  25   \n",
       "1             1  ysw9a5m701          0   66            2                  23   \n",
       "2             2  lpvvez2301          2   70            2                  17   \n",
       "3             3  lpvvweke01          0   71            3                  24   \n",
       "4             4  fgl9b8ym01          0   87            2                  35   \n",
       "..          ...         ...        ...  ...          ...                 ...   \n",
       "765         827  tbc5xe1q01          0   62            1                  23   \n",
       "766         828  lpvve13n01          2   71            3                  15   \n",
       "767         829  uc9qsbtp01          0   61            2                  24   \n",
       "768         830  665ukdxf01          0   57            2                  36   \n",
       "769         831  kixj9dxj01          0   62            3                  24   \n",
       "\n",
       "     ws_big_big3_pauses_long  ws_big_big3_pauses_short  \\\n",
       "0                         17                         8   \n",
       "1                          9                        14   \n",
       "2                          5                        12   \n",
       "3                         17                         7   \n",
       "4                         14                        21   \n",
       "..                       ...                       ...   \n",
       "765                       16                         7   \n",
       "766                       11                         4   \n",
       "767                       16                         8   \n",
       "768                       26                        10   \n",
       "769                        8                        16   \n",
       "\n",
       "     ws_big_big3_uniquewords  ws_big_big3_uniquewordsnorm  ...  \\\n",
       "0                         81                           81  ...   \n",
       "1                         97                           97  ...   \n",
       "2                         63                           63  ...   \n",
       "3                         39                           39  ...   \n",
       "4                         62                           62  ...   \n",
       "..                       ...                          ...  ...   \n",
       "765                       51                           51  ...   \n",
       "766                       33                           33  ...   \n",
       "767                       37                           37  ...   \n",
       "768                       49                           49  ...   \n",
       "769                      103                          103  ...   \n",
       "\n",
       "                                                  big3  \\\n",
       "0    a muž v kuchyni varí a má aj pomocníka ten doč...   \n",
       "1    a ja aj toto je toto je by mohol nevie dal ale...   \n",
       "2    niekto tam buchol do tej do toho lustra dieťa ...   \n",
       "3    kuchyňa otec so synom chlapec sa snaží pomôcť ...   \n",
       "4    že no červený manžel no tak najsamprv malý zle...   \n",
       "..                                                 ...   \n",
       "765  no tak dobre chlapček stojí na stoličke naťahu...   \n",
       "766  v kuchyni je och otec asi zo synov ktorých zre...   \n",
       "767  tiež popísať obrázok je dieťa je chlap ovocie ...   \n",
       "768  že na tomto obrázku vidíme muža ktorý má v ruk...   \n",
       "769  na obrázku vidím muža v kuchyni mi to ta veľmi...   \n",
       "\n",
       "                                                big3_2  \\\n",
       "0    a muž v kuchyni varí a má aj pomocníka [spk] [...   \n",
       "1    a ja aj toto je toto je by mohol nevie dal ale...   \n",
       "2    niekto tam buchol do tej [fil] do toho lustra ...   \n",
       "3    kuchyňa otec so synom chlapec sa snaží pomôcť ...   \n",
       "4    že no červený manžel [@] no tak najsamprv malý...   \n",
       "..                                                 ...   \n",
       "765  no tak dobre chlapček stojí na stoličke naťahu...   \n",
       "766  [fil] v kuchyni [fil] je och [@] otec asi zo s...   \n",
       "767  [fil] tiež popísať obrázok je [spk] dieťa je c...   \n",
       "768  [fil] že na tomto obrázku vidíme muža ktorý má...   \n",
       "769  na obrázku vidím muža v kuchyni mi to ta [spk]...   \n",
       "\n",
       "                                           big3_pauses  \\\n",
       "0    [LONGSIL] a muž v kuchyni varí a má aj pomocní...   \n",
       "1    [LONGSIL] a ja aj toto je toto je by [SHORTSIL...   \n",
       "2    [LONGSIL] niekto tam buchol do tej [fil] do to...   \n",
       "3    [LONGSIL] kuchyňa [LONGSIL] otec so synom [LON...   \n",
       "4    [LONGSIL] že [SHORTSIL] no [SHORTSIL] červený ...   \n",
       "..                                                 ...   \n",
       "765  [LONGSIL] no tak dobre chlapček stojí na stoli...   \n",
       "766  [LONGSIL] [fil] v kuchyni [LONGSIL] [fil] je o...   \n",
       "767  [LONGSIL] [fil] [LONGSIL] tiež popísať obrázok...   \n",
       "768  [LONGSIL] [fil] že na tomto obrázku vidíme [LO...   \n",
       "769  [LONGSIL] na obrázku vidím muža v kuchyni mi t...   \n",
       "\n",
       "                                             big3_tags  \\\n",
       "0     O SSms1 Eu6 SSfs6 VKesc+ O VKesc+ T SSms4 PFm...   \n",
       "1     O PPhs1 T PFns1 VKesc+ PFns1 VKesc+ Y VLesci+...   \n",
       "2     PFms1 PD VLdscm+ Eu2 PFfs2 Eu2 PFis2 SSis2 SS...   \n",
       "3     SSfs1 SSms1 Ev7 SSms7 SSms1 R VKesc+ VId+ SSm...   \n",
       "4     O O AAms1x SSms1 O T Dx AAis1x Dx VLdscm+ Eu4...   \n",
       "..                                                 ...   \n",
       "765   O PD Dx SSms1 VKesc+ Eu6 SSfs6 VKesc+ R Eu7 S...   \n",
       "766   Eu6 SSfs6 VKesc+ J SSms1 T Ev2 SSmp2 PAfp2 T ...   \n",
       "767   T VId+ SSis4 VKesc+ SSns1 VKesc+ SSms1 SSns4 ...   \n",
       "768   O Eu6 PFis6 SSis6 VKepa+ SSms4 PAms1 VKesc+ E...   \n",
       "769   Eu6 SSis6 VKesa+ SSms4 Eu6 SSfs6 PPhs3 PFns1 ...   \n",
       "\n",
       "                                             big3_lema  \\\n",
       "0     a|s muž v kuchyňa variť a|s mať aj pomocník t...   \n",
       "1     a|s ja aj toto byť|jesť toto byť|jesť by môcť...   \n",
       "2     niekto tam buchnúť do tá do ten luster dieťa ...   \n",
       "3     kuchyňa otec s syn chlapec sa snažiť pomôcť o...   \n",
       "4     že no červený manžel no tak najsamprv malý zl...   \n",
       "..                                                 ...   \n",
       "765   no tak dobre chlapček stáť na stolička naťaho...   \n",
       "766   v kuchyňa byť|jesť och otec asi z syn ktorý z...   \n",
       "767   tiež popísať obrázok byť|jesť dieťa byť|jesť ...   \n",
       "768   že na tento obrázok vidieť muž ktorý mať v ru...   \n",
       "769   na obrázok vidieť muž v kuchyňa ja|mi to ta v...   \n",
       "\n",
       "                                           big3_2_tags  \\\n",
       "0     O SSms1 Eu6 SSfs6 VKesc+ O VKesc+ T SSms4 xsp...   \n",
       "1     O PPhs1 T PFns1 VKesc+ PFns1 VKesc+ Y VLesci+...   \n",
       "2     PFms1 PD VLdscm+ Eu2 PFfs2 xfilx Eu2 PFis2 SS...   \n",
       "3     SSfs1 SSms1 Ev7 SSms7 SSms1 R VKesc+ VId+ SSm...   \n",
       "4     O O AAms1x SSms1 xzavx O PD Dx AAis1x Dx VLds...   \n",
       "..                                                 ...   \n",
       "765   O PD Dx SSms1 VKesc+ Eu6 SSfs6 VKesc+ R Eu7 S...   \n",
       "766   xfilx Eu6 SSfs6 xfilx VKesc+ J xzavx SSms1 T ...   \n",
       "767   xfilx T VId+ SSis4 VKesc+ xspkx SSns1 VKesc+ ...   \n",
       "768   xfilx O Eu6 PFis6 SSis6 VKepa+ SSms4 PAms1 VK...   \n",
       "769   Eu6 SSis6 VKesa+ SSms4 Eu6 SSfs6 PPhs3 PFns1 ...   \n",
       "\n",
       "                                      big3_pauses_tags  \\\n",
       "0     xlongsilx O SSms1 Eu6 SSfs6 VKesc+ O VKesc+ T...   \n",
       "1     xlongsilx O PPhs1 T PFns1 VKesc+ PFns1 VKesc+...   \n",
       "2     xlongsilx PFms1 PD VLdscm+ Eu2 PFfs2 xfilx Eu...   \n",
       "3     xlongsilx SSfs1 xlongsilx SSms1 Ev7 SSms7 xlo...   \n",
       "4     xlongsilx O xshortsilx xshortsilx AAms1x SSms...   \n",
       "..                                                 ...   \n",
       "765   xlongsilx O PD Dx SSms1 VKesc+ Eu6 SSfs6 VKes...   \n",
       "766   xlongsilx xfilx Eu6 SSfs6 xlongsilx xfilx VKe...   \n",
       "767   xlongsilx xfilx xlongsilx T VId+ SSis4 xlongs...   \n",
       "768   xlongsilx xfilx O Eu6 PFis6 SSis6 VKepa+ xlon...   \n",
       "769   xlongsilx Eu6 SSis6 VKesa+ SSms4 Eu6 SSfs6 PP...   \n",
       "\n",
       "                                        big3_first_tag  \\\n",
       "0     OOOO SSSS EEEE SSSS VVVV OOOO VVVV TTTT SSSS ...   \n",
       "1     OOOO PPPP TTTT PPPP VVVV PPPP VVVV YYYY VVVV ...   \n",
       "2     PPPP PPPP VVVV EEEE PPPP EEEE PPPP SSSS SSSS ...   \n",
       "3     SSSS SSSS EEEE SSSS SSSS RRRR VVVV VVVV SSSS ...   \n",
       "4     OOOO OOOO AAAA SSSS OOOO TTTT DDDD AAAA DDDD ...   \n",
       "..                                                 ...   \n",
       "765   OOOO PPPP DDDD SSSS VVVV EEEE SSSS VVVV RRRR ...   \n",
       "766   EEEE SSSS VVVV JJJJ SSSS TTTT EEEE SSSS PPPP ...   \n",
       "767   TTTT VVVV SSSS VVVV SSSS VVVV SSSS SSSS SSSS ...   \n",
       "768   OOOO EEEE PPPP SSSS VVVV SSSS PPPP VVVV EEEE ...   \n",
       "769   EEEE SSSS VVVV SSSS EEEE SSSS PPPP PPPP PPPP ...   \n",
       "\n",
       "                                      big3_2_first_tag  \\\n",
       "0     OOOO SSSS EEEE SSSS VVVV OOOO VVVV TTTT SSSS ...   \n",
       "1     OOOO PPPP TTTT PPPP VVVV PPPP VVVV YYYY VVVV ...   \n",
       "2     PPPP PPPP VVVV EEEE PPPP xfilx EEEE PPPP SSSS...   \n",
       "3     SSSS SSSS EEEE SSSS SSSS RRRR VVVV VVVV SSSS ...   \n",
       "4     OOOO OOOO AAAA SSSS xzavx OOOO PPPP DDDD AAAA...   \n",
       "..                                                 ...   \n",
       "765   OOOO PPPP DDDD SSSS VVVV EEEE SSSS VVVV RRRR ...   \n",
       "766   xfilx EEEE SSSS xfilx VVVV JJJJ xzavx SSSS TT...   \n",
       "767   xfilx TTTT VVVV SSSS VVVV xspkx SSSS VVVV SSS...   \n",
       "768   xfilx OOOO EEEE PPPP SSSS VVVV SSSS PPPP VVVV...   \n",
       "769   EEEE SSSS VVVV SSSS EEEE SSSS PPPP PPPP PPPP ...   \n",
       "\n",
       "                                 big3_pauses_first_tag  \n",
       "0     xlongsilx OOOO SSSS EEEE SSSS VVVV OOOO VVVV ...  \n",
       "1     xlongsilx OOOO PPPP TTTT PPPP VVVV PPPP VVVV ...  \n",
       "2     xlongsilx PPPP PPPP VVVV EEEE PPPP xfilx EEEE...  \n",
       "3     xlongsilx SSSS xlongsilx SSSS EEEE SSSS xlong...  \n",
       "4     xlongsilx OOOO xshortsilx xshortsilx AAAA SSS...  \n",
       "..                                                 ...  \n",
       "765   xlongsilx OOOO PPPP DDDD SSSS VVVV EEEE SSSS ...  \n",
       "766   xlongsilx xfilx EEEE SSSS xlongsilx xfilx VVV...  \n",
       "767   xlongsilx xfilx xlongsilx TTTT VVVV SSSS xlon...  \n",
       "768   xlongsilx xfilx OOOO EEEE PPPP SSSS VVVV xlon...  \n",
       "769   xlongsilx EEEE SSSS VVVV SSSS EEEE SSSS PPPP ...  \n",
       "\n",
       "[770 rows x 38 columns]"
      ]
     },
     "execution_count": 3,
     "metadata": {},
     "output_type": "execute_result"
    }
   ],
   "source": [
    "df"
   ]
  },
  {
   "cell_type": "markdown",
   "id": "11bab4ee",
   "metadata": {},
   "source": [
    "# Les - MOCA"
   ]
  },
  {
   "cell_type": "code",
   "execution_count": 4,
   "id": "967faeb5",
   "metadata": {},
   "outputs": [],
   "source": [
    "X = df[['moca']]\n",
    "y = df['alzheimer']"
   ]
  },
  {
   "cell_type": "code",
   "execution_count": 5,
   "id": "c6d6afd9",
   "metadata": {},
   "outputs": [],
   "source": [
    "X_train, X_test, y_train, y_test = train_test_split(X, y, test_size=0.2)"
   ]
  },
  {
   "cell_type": "code",
   "execution_count": 6,
   "id": "cef537b4",
   "metadata": {},
   "outputs": [
    {
     "data": {
      "text/html": [
       "<style>#sk-container-id-1 {color: black;}#sk-container-id-1 pre{padding: 0;}#sk-container-id-1 div.sk-toggleable {background-color: white;}#sk-container-id-1 label.sk-toggleable__label {cursor: pointer;display: block;width: 100%;margin-bottom: 0;padding: 0.3em;box-sizing: border-box;text-align: center;}#sk-container-id-1 label.sk-toggleable__label-arrow:before {content: \"▸\";float: left;margin-right: 0.25em;color: #696969;}#sk-container-id-1 label.sk-toggleable__label-arrow:hover:before {color: black;}#sk-container-id-1 div.sk-estimator:hover label.sk-toggleable__label-arrow:before {color: black;}#sk-container-id-1 div.sk-toggleable__content {max-height: 0;max-width: 0;overflow: hidden;text-align: left;background-color: #f0f8ff;}#sk-container-id-1 div.sk-toggleable__content pre {margin: 0.2em;color: black;border-radius: 0.25em;background-color: #f0f8ff;}#sk-container-id-1 input.sk-toggleable__control:checked~div.sk-toggleable__content {max-height: 200px;max-width: 100%;overflow: auto;}#sk-container-id-1 input.sk-toggleable__control:checked~label.sk-toggleable__label-arrow:before {content: \"▾\";}#sk-container-id-1 div.sk-estimator input.sk-toggleable__control:checked~label.sk-toggleable__label {background-color: #d4ebff;}#sk-container-id-1 div.sk-label input.sk-toggleable__control:checked~label.sk-toggleable__label {background-color: #d4ebff;}#sk-container-id-1 input.sk-hidden--visually {border: 0;clip: rect(1px 1px 1px 1px);clip: rect(1px, 1px, 1px, 1px);height: 1px;margin: -1px;overflow: hidden;padding: 0;position: absolute;width: 1px;}#sk-container-id-1 div.sk-estimator {font-family: monospace;background-color: #f0f8ff;border: 1px dotted black;border-radius: 0.25em;box-sizing: border-box;margin-bottom: 0.5em;}#sk-container-id-1 div.sk-estimator:hover {background-color: #d4ebff;}#sk-container-id-1 div.sk-parallel-item::after {content: \"\";width: 100%;border-bottom: 1px solid gray;flex-grow: 1;}#sk-container-id-1 div.sk-label:hover label.sk-toggleable__label {background-color: #d4ebff;}#sk-container-id-1 div.sk-serial::before {content: \"\";position: absolute;border-left: 1px solid gray;box-sizing: border-box;top: 0;bottom: 0;left: 50%;z-index: 0;}#sk-container-id-1 div.sk-serial {display: flex;flex-direction: column;align-items: center;background-color: white;padding-right: 0.2em;padding-left: 0.2em;position: relative;}#sk-container-id-1 div.sk-item {position: relative;z-index: 1;}#sk-container-id-1 div.sk-parallel {display: flex;align-items: stretch;justify-content: center;background-color: white;position: relative;}#sk-container-id-1 div.sk-item::before, #sk-container-id-1 div.sk-parallel-item::before {content: \"\";position: absolute;border-left: 1px solid gray;box-sizing: border-box;top: 0;bottom: 0;left: 50%;z-index: -1;}#sk-container-id-1 div.sk-parallel-item {display: flex;flex-direction: column;z-index: 1;position: relative;background-color: white;}#sk-container-id-1 div.sk-parallel-item:first-child::after {align-self: flex-end;width: 50%;}#sk-container-id-1 div.sk-parallel-item:last-child::after {align-self: flex-start;width: 50%;}#sk-container-id-1 div.sk-parallel-item:only-child::after {width: 0;}#sk-container-id-1 div.sk-dashed-wrapped {border: 1px dashed gray;margin: 0 0.4em 0.5em 0.4em;box-sizing: border-box;padding-bottom: 0.4em;background-color: white;}#sk-container-id-1 div.sk-label label {font-family: monospace;font-weight: bold;display: inline-block;line-height: 1.2em;}#sk-container-id-1 div.sk-label-container {text-align: center;}#sk-container-id-1 div.sk-container {/* jupyter's `normalize.less` sets `[hidden] { display: none; }` but bootstrap.min.css set `[hidden] { display: none !important; }` so we also need the `!important` here to be able to override the default hidden behavior on the sphinx rendered scikit-learn.org. See: https://github.com/scikit-learn/scikit-learn/issues/21755 */display: inline-block !important;position: relative;}#sk-container-id-1 div.sk-text-repr-fallback {display: none;}</style><div id=\"sk-container-id-1\" class=\"sk-top-container\"><div class=\"sk-text-repr-fallback\"><pre>RandomForestClassifier(class_weight=&#x27;balanced&#x27;)</pre><b>In a Jupyter environment, please rerun this cell to show the HTML representation or trust the notebook. <br />On GitHub, the HTML representation is unable to render, please try loading this page with nbviewer.org.</b></div><div class=\"sk-container\" hidden><div class=\"sk-item\"><div class=\"sk-estimator sk-toggleable\"><input class=\"sk-toggleable__control sk-hidden--visually\" id=\"sk-estimator-id-1\" type=\"checkbox\" checked><label for=\"sk-estimator-id-1\" class=\"sk-toggleable__label sk-toggleable__label-arrow\">RandomForestClassifier</label><div class=\"sk-toggleable__content\"><pre>RandomForestClassifier(class_weight=&#x27;balanced&#x27;)</pre></div></div></div></div></div>"
      ],
      "text/plain": [
       "RandomForestClassifier(class_weight='balanced')"
      ]
     },
     "execution_count": 6,
     "metadata": {},
     "output_type": "execute_result"
    }
   ],
   "source": [
    "clf = RandomForestClassifier(n_estimators=100, class_weight='balanced')\n",
    "clf.fit(X_train, y_train)"
   ]
  },
  {
   "cell_type": "code",
   "execution_count": 7,
   "id": "e512fbf7",
   "metadata": {},
   "outputs": [],
   "source": [
    "y_pred = clf.predict(X_test)"
   ]
  },
  {
   "cell_type": "code",
   "execution_count": 8,
   "id": "1d12e8cc",
   "metadata": {},
   "outputs": [
    {
     "name": "stdout",
     "output_type": "stream",
     "text": [
      "Presnosť modelu: 0.84\n",
      "\n",
      "              precision    recall  f1-score   support\n",
      "\n",
      "           0       0.97      0.86      0.91       132\n",
      "           1       0.21      0.50      0.29        10\n",
      "           2       0.92      0.92      0.92        12\n",
      "\n",
      "    accuracy                           0.84       154\n",
      "   macro avg       0.70      0.76      0.71       154\n",
      "weighted avg       0.91      0.84      0.87       154\n",
      "\n"
     ]
    }
   ],
   "source": [
    "accuracy = accuracy_score(y_test, y_pred)\n",
    "print(f'Presnosť modelu: {accuracy:.2f}')\n",
    "print('')\n",
    "print(classification_report(y_test, y_pred))"
   ]
  },
  {
   "cell_type": "markdown",
   "id": "923f865a",
   "metadata": {},
   "source": [
    "# Les - Viac"
   ]
  },
  {
   "cell_type": "code",
   "execution_count": 9,
   "id": "2d4c9938",
   "metadata": {},
   "outputs": [],
   "source": [
    "X = df[['moca', 'age', 'education_x', 'ws_big_big3_pauses', 'ws_big_big3_pauses_long', 'ws_big_big3_pauses_short', 'big3_asr_speech_rate_words_per_second']]\n",
    "y = df['alzheimer']"
   ]
  },
  {
   "cell_type": "code",
   "execution_count": 10,
   "id": "374b99c1",
   "metadata": {},
   "outputs": [],
   "source": [
    "X_train, X_test, y_train, y_test = train_test_split(X, y, test_size=0.2)"
   ]
  },
  {
   "cell_type": "code",
   "execution_count": 11,
   "id": "e4680997",
   "metadata": {},
   "outputs": [
    {
     "data": {
      "text/html": [
       "<style>#sk-container-id-2 {color: black;}#sk-container-id-2 pre{padding: 0;}#sk-container-id-2 div.sk-toggleable {background-color: white;}#sk-container-id-2 label.sk-toggleable__label {cursor: pointer;display: block;width: 100%;margin-bottom: 0;padding: 0.3em;box-sizing: border-box;text-align: center;}#sk-container-id-2 label.sk-toggleable__label-arrow:before {content: \"▸\";float: left;margin-right: 0.25em;color: #696969;}#sk-container-id-2 label.sk-toggleable__label-arrow:hover:before {color: black;}#sk-container-id-2 div.sk-estimator:hover label.sk-toggleable__label-arrow:before {color: black;}#sk-container-id-2 div.sk-toggleable__content {max-height: 0;max-width: 0;overflow: hidden;text-align: left;background-color: #f0f8ff;}#sk-container-id-2 div.sk-toggleable__content pre {margin: 0.2em;color: black;border-radius: 0.25em;background-color: #f0f8ff;}#sk-container-id-2 input.sk-toggleable__control:checked~div.sk-toggleable__content {max-height: 200px;max-width: 100%;overflow: auto;}#sk-container-id-2 input.sk-toggleable__control:checked~label.sk-toggleable__label-arrow:before {content: \"▾\";}#sk-container-id-2 div.sk-estimator input.sk-toggleable__control:checked~label.sk-toggleable__label {background-color: #d4ebff;}#sk-container-id-2 div.sk-label input.sk-toggleable__control:checked~label.sk-toggleable__label {background-color: #d4ebff;}#sk-container-id-2 input.sk-hidden--visually {border: 0;clip: rect(1px 1px 1px 1px);clip: rect(1px, 1px, 1px, 1px);height: 1px;margin: -1px;overflow: hidden;padding: 0;position: absolute;width: 1px;}#sk-container-id-2 div.sk-estimator {font-family: monospace;background-color: #f0f8ff;border: 1px dotted black;border-radius: 0.25em;box-sizing: border-box;margin-bottom: 0.5em;}#sk-container-id-2 div.sk-estimator:hover {background-color: #d4ebff;}#sk-container-id-2 div.sk-parallel-item::after {content: \"\";width: 100%;border-bottom: 1px solid gray;flex-grow: 1;}#sk-container-id-2 div.sk-label:hover label.sk-toggleable__label {background-color: #d4ebff;}#sk-container-id-2 div.sk-serial::before {content: \"\";position: absolute;border-left: 1px solid gray;box-sizing: border-box;top: 0;bottom: 0;left: 50%;z-index: 0;}#sk-container-id-2 div.sk-serial {display: flex;flex-direction: column;align-items: center;background-color: white;padding-right: 0.2em;padding-left: 0.2em;position: relative;}#sk-container-id-2 div.sk-item {position: relative;z-index: 1;}#sk-container-id-2 div.sk-parallel {display: flex;align-items: stretch;justify-content: center;background-color: white;position: relative;}#sk-container-id-2 div.sk-item::before, #sk-container-id-2 div.sk-parallel-item::before {content: \"\";position: absolute;border-left: 1px solid gray;box-sizing: border-box;top: 0;bottom: 0;left: 50%;z-index: -1;}#sk-container-id-2 div.sk-parallel-item {display: flex;flex-direction: column;z-index: 1;position: relative;background-color: white;}#sk-container-id-2 div.sk-parallel-item:first-child::after {align-self: flex-end;width: 50%;}#sk-container-id-2 div.sk-parallel-item:last-child::after {align-self: flex-start;width: 50%;}#sk-container-id-2 div.sk-parallel-item:only-child::after {width: 0;}#sk-container-id-2 div.sk-dashed-wrapped {border: 1px dashed gray;margin: 0 0.4em 0.5em 0.4em;box-sizing: border-box;padding-bottom: 0.4em;background-color: white;}#sk-container-id-2 div.sk-label label {font-family: monospace;font-weight: bold;display: inline-block;line-height: 1.2em;}#sk-container-id-2 div.sk-label-container {text-align: center;}#sk-container-id-2 div.sk-container {/* jupyter's `normalize.less` sets `[hidden] { display: none; }` but bootstrap.min.css set `[hidden] { display: none !important; }` so we also need the `!important` here to be able to override the default hidden behavior on the sphinx rendered scikit-learn.org. See: https://github.com/scikit-learn/scikit-learn/issues/21755 */display: inline-block !important;position: relative;}#sk-container-id-2 div.sk-text-repr-fallback {display: none;}</style><div id=\"sk-container-id-2\" class=\"sk-top-container\"><div class=\"sk-text-repr-fallback\"><pre>RandomForestClassifier(class_weight=&#x27;balanced&#x27;)</pre><b>In a Jupyter environment, please rerun this cell to show the HTML representation or trust the notebook. <br />On GitHub, the HTML representation is unable to render, please try loading this page with nbviewer.org.</b></div><div class=\"sk-container\" hidden><div class=\"sk-item\"><div class=\"sk-estimator sk-toggleable\"><input class=\"sk-toggleable__control sk-hidden--visually\" id=\"sk-estimator-id-2\" type=\"checkbox\" checked><label for=\"sk-estimator-id-2\" class=\"sk-toggleable__label sk-toggleable__label-arrow\">RandomForestClassifier</label><div class=\"sk-toggleable__content\"><pre>RandomForestClassifier(class_weight=&#x27;balanced&#x27;)</pre></div></div></div></div></div>"
      ],
      "text/plain": [
       "RandomForestClassifier(class_weight='balanced')"
      ]
     },
     "execution_count": 11,
     "metadata": {},
     "output_type": "execute_result"
    }
   ],
   "source": [
    "clf = RandomForestClassifier(n_estimators=100, class_weight='balanced')\n",
    "clf.fit(X_train, y_train)"
   ]
  },
  {
   "cell_type": "code",
   "execution_count": 12,
   "id": "c748125d",
   "metadata": {},
   "outputs": [],
   "source": [
    "y_pred = clf.predict(X_test)"
   ]
  },
  {
   "cell_type": "code",
   "execution_count": 13,
   "id": "082261b8",
   "metadata": {},
   "outputs": [
    {
     "name": "stdout",
     "output_type": "stream",
     "text": [
      "Presnosť modelu: 0.91\n",
      "\n",
      "              precision    recall  f1-score   support\n",
      "\n",
      "           0       0.91      1.00      0.96       129\n",
      "           1       0.80      0.29      0.42        14\n",
      "           2       0.88      0.64      0.74        11\n",
      "\n",
      "    accuracy                           0.91       154\n",
      "   macro avg       0.86      0.64      0.70       154\n",
      "weighted avg       0.90      0.91      0.89       154\n",
      "\n"
     ]
    }
   ],
   "source": [
    "accuracy = accuracy_score(y_test, y_pred)\n",
    "print(f'Presnosť modelu: {accuracy:.2f}')\n",
    "print('')\n",
    "print(classification_report(y_test, y_pred))"
   ]
  },
  {
   "cell_type": "markdown",
   "id": "6d31369d",
   "metadata": {},
   "source": [
    "# Jeden strom - MOCA"
   ]
  },
  {
   "cell_type": "code",
   "execution_count": 14,
   "id": "55b0a5b5",
   "metadata": {},
   "outputs": [],
   "source": [
    "X = df[['moca']]\n",
    "y = df['alzheimer']"
   ]
  },
  {
   "cell_type": "code",
   "execution_count": 15,
   "id": "6f6b1715",
   "metadata": {},
   "outputs": [],
   "source": [
    "X_train, X_test, y_train, y_test = train_test_split(X, y, test_size=0.2)"
   ]
  },
  {
   "cell_type": "code",
   "execution_count": 16,
   "id": "7320f627",
   "metadata": {},
   "outputs": [
    {
     "data": {
      "text/html": [
       "<style>#sk-container-id-3 {color: black;}#sk-container-id-3 pre{padding: 0;}#sk-container-id-3 div.sk-toggleable {background-color: white;}#sk-container-id-3 label.sk-toggleable__label {cursor: pointer;display: block;width: 100%;margin-bottom: 0;padding: 0.3em;box-sizing: border-box;text-align: center;}#sk-container-id-3 label.sk-toggleable__label-arrow:before {content: \"▸\";float: left;margin-right: 0.25em;color: #696969;}#sk-container-id-3 label.sk-toggleable__label-arrow:hover:before {color: black;}#sk-container-id-3 div.sk-estimator:hover label.sk-toggleable__label-arrow:before {color: black;}#sk-container-id-3 div.sk-toggleable__content {max-height: 0;max-width: 0;overflow: hidden;text-align: left;background-color: #f0f8ff;}#sk-container-id-3 div.sk-toggleable__content pre {margin: 0.2em;color: black;border-radius: 0.25em;background-color: #f0f8ff;}#sk-container-id-3 input.sk-toggleable__control:checked~div.sk-toggleable__content {max-height: 200px;max-width: 100%;overflow: auto;}#sk-container-id-3 input.sk-toggleable__control:checked~label.sk-toggleable__label-arrow:before {content: \"▾\";}#sk-container-id-3 div.sk-estimator input.sk-toggleable__control:checked~label.sk-toggleable__label {background-color: #d4ebff;}#sk-container-id-3 div.sk-label input.sk-toggleable__control:checked~label.sk-toggleable__label {background-color: #d4ebff;}#sk-container-id-3 input.sk-hidden--visually {border: 0;clip: rect(1px 1px 1px 1px);clip: rect(1px, 1px, 1px, 1px);height: 1px;margin: -1px;overflow: hidden;padding: 0;position: absolute;width: 1px;}#sk-container-id-3 div.sk-estimator {font-family: monospace;background-color: #f0f8ff;border: 1px dotted black;border-radius: 0.25em;box-sizing: border-box;margin-bottom: 0.5em;}#sk-container-id-3 div.sk-estimator:hover {background-color: #d4ebff;}#sk-container-id-3 div.sk-parallel-item::after {content: \"\";width: 100%;border-bottom: 1px solid gray;flex-grow: 1;}#sk-container-id-3 div.sk-label:hover label.sk-toggleable__label {background-color: #d4ebff;}#sk-container-id-3 div.sk-serial::before {content: \"\";position: absolute;border-left: 1px solid gray;box-sizing: border-box;top: 0;bottom: 0;left: 50%;z-index: 0;}#sk-container-id-3 div.sk-serial {display: flex;flex-direction: column;align-items: center;background-color: white;padding-right: 0.2em;padding-left: 0.2em;position: relative;}#sk-container-id-3 div.sk-item {position: relative;z-index: 1;}#sk-container-id-3 div.sk-parallel {display: flex;align-items: stretch;justify-content: center;background-color: white;position: relative;}#sk-container-id-3 div.sk-item::before, #sk-container-id-3 div.sk-parallel-item::before {content: \"\";position: absolute;border-left: 1px solid gray;box-sizing: border-box;top: 0;bottom: 0;left: 50%;z-index: -1;}#sk-container-id-3 div.sk-parallel-item {display: flex;flex-direction: column;z-index: 1;position: relative;background-color: white;}#sk-container-id-3 div.sk-parallel-item:first-child::after {align-self: flex-end;width: 50%;}#sk-container-id-3 div.sk-parallel-item:last-child::after {align-self: flex-start;width: 50%;}#sk-container-id-3 div.sk-parallel-item:only-child::after {width: 0;}#sk-container-id-3 div.sk-dashed-wrapped {border: 1px dashed gray;margin: 0 0.4em 0.5em 0.4em;box-sizing: border-box;padding-bottom: 0.4em;background-color: white;}#sk-container-id-3 div.sk-label label {font-family: monospace;font-weight: bold;display: inline-block;line-height: 1.2em;}#sk-container-id-3 div.sk-label-container {text-align: center;}#sk-container-id-3 div.sk-container {/* jupyter's `normalize.less` sets `[hidden] { display: none; }` but bootstrap.min.css set `[hidden] { display: none !important; }` so we also need the `!important` here to be able to override the default hidden behavior on the sphinx rendered scikit-learn.org. See: https://github.com/scikit-learn/scikit-learn/issues/21755 */display: inline-block !important;position: relative;}#sk-container-id-3 div.sk-text-repr-fallback {display: none;}</style><div id=\"sk-container-id-3\" class=\"sk-top-container\"><div class=\"sk-text-repr-fallback\"><pre>DecisionTreeClassifier(max_depth=3)</pre><b>In a Jupyter environment, please rerun this cell to show the HTML representation or trust the notebook. <br />On GitHub, the HTML representation is unable to render, please try loading this page with nbviewer.org.</b></div><div class=\"sk-container\" hidden><div class=\"sk-item\"><div class=\"sk-estimator sk-toggleable\"><input class=\"sk-toggleable__control sk-hidden--visually\" id=\"sk-estimator-id-3\" type=\"checkbox\" checked><label for=\"sk-estimator-id-3\" class=\"sk-toggleable__label sk-toggleable__label-arrow\">DecisionTreeClassifier</label><div class=\"sk-toggleable__content\"><pre>DecisionTreeClassifier(max_depth=3)</pre></div></div></div></div></div>"
      ],
      "text/plain": [
       "DecisionTreeClassifier(max_depth=3)"
      ]
     },
     "execution_count": 16,
     "metadata": {},
     "output_type": "execute_result"
    }
   ],
   "source": [
    "clf = DecisionTreeClassifier(max_depth=3)\n",
    "clf.fit(X_train, y_train)"
   ]
  },
  {
   "cell_type": "code",
   "execution_count": 17,
   "id": "83fe0ce9",
   "metadata": {},
   "outputs": [
    {
     "data": {
      "image/png": "[encoded data removed]",
      "text/plain": [
       "<Figure size 864x576 with 1 Axes>"
      ]
     },
     "metadata": {
      "needs_background": "light"
     },
     "output_type": "display_data"
    }
   ],
   "source": [
    "plt.figure(figsize=(12, 8))\n",
    "plot_tree(clf, feature_names=['moca'], class_names=['Zdravy', 'Alzheimer', 'Parkinson'], filled=True)\n",
    "plt.show()"
   ]
  },
  {
   "cell_type": "code",
   "execution_count": 18,
   "id": "c7015295",
   "metadata": {},
   "outputs": [],
   "source": [
    "y_pred = clf.predict(X_test)"
   ]
  },
  {
   "cell_type": "code",
   "execution_count": 19,
   "id": "6abe8a65",
   "metadata": {},
   "outputs": [
    {
     "name": "stdout",
     "output_type": "stream",
     "text": [
      "Presnosť modelu: 0.96\n",
      "\n",
      "              precision    recall  f1-score   support\n",
      "\n",
      "           0       0.97      1.00      0.99       135\n",
      "           1       0.88      0.58      0.70        12\n",
      "           2       0.86      0.86      0.86         7\n",
      "\n",
      "    accuracy                           0.96       154\n",
      "   macro avg       0.90      0.81      0.85       154\n",
      "weighted avg       0.96      0.96      0.96       154\n",
      "\n"
     ]
    }
   ],
   "source": [
    "accuracy = accuracy_score(y_test, y_pred)\n",
    "print(f'Presnosť modelu: {accuracy:.2f}')\n",
    "print('')\n",
    "print(classification_report(y_test, y_pred))"
   ]
  },
  {
   "cell_type": "markdown",
   "id": "21036505",
   "metadata": {},
   "source": [
    "# Jeden strom - Viac"
   ]
  },
  {
   "cell_type": "code",
   "execution_count": 20,
   "id": "8df77e89",
   "metadata": {},
   "outputs": [],
   "source": [
    "X = df[['moca', 'age', 'education_x', 'ws_big_big3_pauses', 'ws_big_big3_pauses_long', 'ws_big_big3_pauses_short', 'big3_asr_speech_rate_words_per_second']]\n",
    "y = df['alzheimer']"
   ]
  },
  {
   "cell_type": "code",
   "execution_count": 21,
   "id": "706aab05",
   "metadata": {},
   "outputs": [],
   "source": [
    "X_train, X_test, y_train, y_test = train_test_split(X, y, test_size=0.2)"
   ]
  },
  {
   "cell_type": "code",
   "execution_count": 22,
   "id": "dd968469",
   "metadata": {},
   "outputs": [
    {
     "data": {
      "text/html": [
       "<style>#sk-container-id-4 {color: black;}#sk-container-id-4 pre{padding: 0;}#sk-container-id-4 div.sk-toggleable {background-color: white;}#sk-container-id-4 label.sk-toggleable__label {cursor: pointer;display: block;width: 100%;margin-bottom: 0;padding: 0.3em;box-sizing: border-box;text-align: center;}#sk-container-id-4 label.sk-toggleable__label-arrow:before {content: \"▸\";float: left;margin-right: 0.25em;color: #696969;}#sk-container-id-4 label.sk-toggleable__label-arrow:hover:before {color: black;}#sk-container-id-4 div.sk-estimator:hover label.sk-toggleable__label-arrow:before {color: black;}#sk-container-id-4 div.sk-toggleable__content {max-height: 0;max-width: 0;overflow: hidden;text-align: left;background-color: #f0f8ff;}#sk-container-id-4 div.sk-toggleable__content pre {margin: 0.2em;color: black;border-radius: 0.25em;background-color: #f0f8ff;}#sk-container-id-4 input.sk-toggleable__control:checked~div.sk-toggleable__content {max-height: 200px;max-width: 100%;overflow: auto;}#sk-container-id-4 input.sk-toggleable__control:checked~label.sk-toggleable__label-arrow:before {content: \"▾\";}#sk-container-id-4 div.sk-estimator input.sk-toggleable__control:checked~label.sk-toggleable__label {background-color: #d4ebff;}#sk-container-id-4 div.sk-label input.sk-toggleable__control:checked~label.sk-toggleable__label {background-color: #d4ebff;}#sk-container-id-4 input.sk-hidden--visually {border: 0;clip: rect(1px 1px 1px 1px);clip: rect(1px, 1px, 1px, 1px);height: 1px;margin: -1px;overflow: hidden;padding: 0;position: absolute;width: 1px;}#sk-container-id-4 div.sk-estimator {font-family: monospace;background-color: #f0f8ff;border: 1px dotted black;border-radius: 0.25em;box-sizing: border-box;margin-bottom: 0.5em;}#sk-container-id-4 div.sk-estimator:hover {background-color: #d4ebff;}#sk-container-id-4 div.sk-parallel-item::after {content: \"\";width: 100%;border-bottom: 1px solid gray;flex-grow: 1;}#sk-container-id-4 div.sk-label:hover label.sk-toggleable__label {background-color: #d4ebff;}#sk-container-id-4 div.sk-serial::before {content: \"\";position: absolute;border-left: 1px solid gray;box-sizing: border-box;top: 0;bottom: 0;left: 50%;z-index: 0;}#sk-container-id-4 div.sk-serial {display: flex;flex-direction: column;align-items: center;background-color: white;padding-right: 0.2em;padding-left: 0.2em;position: relative;}#sk-container-id-4 div.sk-item {position: relative;z-index: 1;}#sk-container-id-4 div.sk-parallel {display: flex;align-items: stretch;justify-content: center;background-color: white;position: relative;}#sk-container-id-4 div.sk-item::before, #sk-container-id-4 div.sk-parallel-item::before {content: \"\";position: absolute;border-left: 1px solid gray;box-sizing: border-box;top: 0;bottom: 0;left: 50%;z-index: -1;}#sk-container-id-4 div.sk-parallel-item {display: flex;flex-direction: column;z-index: 1;position: relative;background-color: white;}#sk-container-id-4 div.sk-parallel-item:first-child::after {align-self: flex-end;width: 50%;}#sk-container-id-4 div.sk-parallel-item:last-child::after {align-self: flex-start;width: 50%;}#sk-container-id-4 div.sk-parallel-item:only-child::after {width: 0;}#sk-container-id-4 div.sk-dashed-wrapped {border: 1px dashed gray;margin: 0 0.4em 0.5em 0.4em;box-sizing: border-box;padding-bottom: 0.4em;background-color: white;}#sk-container-id-4 div.sk-label label {font-family: monospace;font-weight: bold;display: inline-block;line-height: 1.2em;}#sk-container-id-4 div.sk-label-container {text-align: center;}#sk-container-id-4 div.sk-container {/* jupyter's `normalize.less` sets `[hidden] { display: none; }` but bootstrap.min.css set `[hidden] { display: none !important; }` so we also need the `!important` here to be able to override the default hidden behavior on the sphinx rendered scikit-learn.org. See: https://github.com/scikit-learn/scikit-learn/issues/21755 */display: inline-block !important;position: relative;}#sk-container-id-4 div.sk-text-repr-fallback {display: none;}</style><div id=\"sk-container-id-4\" class=\"sk-top-container\"><div class=\"sk-text-repr-fallback\"><pre>DecisionTreeClassifier(max_depth=4)</pre><b>In a Jupyter environment, please rerun this cell to show the HTML representation or trust the notebook. <br />On GitHub, the HTML representation is unable to render, please try loading this page with nbviewer.org.</b></div><div class=\"sk-container\" hidden><div class=\"sk-item\"><div class=\"sk-estimator sk-toggleable\"><input class=\"sk-toggleable__control sk-hidden--visually\" id=\"sk-estimator-id-4\" type=\"checkbox\" checked><label for=\"sk-estimator-id-4\" class=\"sk-toggleable__label sk-toggleable__label-arrow\">DecisionTreeClassifier</label><div class=\"sk-toggleable__content\"><pre>DecisionTreeClassifier(max_depth=4)</pre></div></div></div></div></div>"
      ],
      "text/plain": [
       "DecisionTreeClassifier(max_depth=4)"
      ]
     },
     "execution_count": 22,
     "metadata": {},
     "output_type": "execute_result"
    }
   ],
   "source": [
    "clf = DecisionTreeClassifier(max_depth=4)\n",
    "clf.fit(X_train, y_train)"
   ]
  },
  {
   "cell_type": "code",
   "execution_count": 23,
   "id": "ba68d34c",
   "metadata": {},
   "outputs": [],
   "source": [
    "y_pred = clf.predict(X_test)"
   ]
  },
  {
   "cell_type": "code",
   "execution_count": 24,
   "id": "58abecc7",
   "metadata": {},
   "outputs": [
    {
     "name": "stdout",
     "output_type": "stream",
     "text": [
      "Presnosť modelu: 0.94\n",
      "\n",
      "              precision    recall  f1-score   support\n",
      "\n",
      "           0       0.97      0.98      0.98       133\n",
      "           1       0.57      0.67      0.62        12\n",
      "           2       1.00      0.56      0.71         9\n",
      "\n",
      "    accuracy                           0.94       154\n",
      "   macro avg       0.85      0.74      0.77       154\n",
      "weighted avg       0.94      0.94      0.93       154\n",
      "\n"
     ]
    }
   ],
   "source": [
    "accuracy = accuracy_score(y_test, y_pred)\n",
    "print(f'Presnosť modelu: {accuracy:.2f}')\n",
    "print('')\n",
    "print(classification_report(y_test, y_pred))"
   ]
  },
  {
   "cell_type": "code",
   "execution_count": 25,
   "id": "75a2efab",
   "metadata": {},
   "outputs": [],
   "source": [
    "cm = confusion_matrix(y_test, y_pred, labels=[0, 1, 2])"
   ]
  },
  {
   "cell_type": "code",
   "execution_count": 26,
   "id": "1b4ee2e8",
   "metadata": {},
   "outputs": [],
   "source": [
    "false_positives = np.sum(cm, axis=0) - np.diag(cm)\n",
    "false_negatives = np.sum(cm, axis=1) - np.diag(cm)\n",
    "true_positives = np.diag(cm)\n",
    "true_negatives = np.sum(cm) - (false_positives + false_negatives + true_positives)"
   ]
  },
  {
   "cell_type": "code",
   "execution_count": 27,
   "id": "0f2fb37e",
   "metadata": {},
   "outputs": [
    {
     "data": {
      "image/png": "[encoded data removed]",
      "text/plain": [
       "<Figure size 432x288 with 1 Axes>"
      ]
     },
     "metadata": {
      "needs_background": "light"
     },
     "output_type": "display_data"
    },
    {
     "data": {
      "image/png": "[encoded data removed]",
      "text/plain": [
       "<Figure size 432x288 with 1 Axes>"
      ]
     },
     "metadata": {
      "needs_background": "light"
     },
     "output_type": "display_data"
    },
    {
     "data": {
      "image/png": "[encoded data removed]",
      "text/plain": [
       "<Figure size 432x288 with 1 Axes>"
      ]
     },
     "metadata": {
      "needs_background": "light"
     },
     "output_type": "display_data"
    }
   ],
   "source": [
    "labels = ['False Positives', 'False Negatives', 'True Positives', 'True Negatives']\n",
    "\n",
    "for i, class_name in enumerate(['Zdravý', 'Alzheimer', 'Parkinson']):\n",
    "    values = [false_positives[i], false_negatives[i], true_positives[i], true_negatives[i]]\n",
    "    \n",
    "    plt.figure(figsize=(6, 4))\n",
    "    plt.bar(labels, values)\n",
    "    plt.xlabel(\"\")\n",
    "    plt.ylabel(\"\")\n",
    "    plt.title(f\"{class_name}\")\n",
    "    plt.show()"
   ]
  },
  {
   "cell_type": "markdown",
   "id": "6bb940bb",
   "metadata": {},
   "source": [
    "# Jeden strom - PauzaD"
   ]
  },
  {
   "cell_type": "code",
   "execution_count": 28,
   "id": "5169c17e",
   "metadata": {},
   "outputs": [],
   "source": [
    "X = df[['ws_big_big3_pauses_long']]\n",
    "y = df['alzheimer']"
   ]
  },
  {
   "cell_type": "code",
   "execution_count": 29,
   "id": "e06ee8e2",
   "metadata": {},
   "outputs": [],
   "source": [
    "X_train, X_test, y_train, y_test = train_test_split(X, y, test_size=0.2)"
   ]
  },
  {
   "cell_type": "code",
   "execution_count": 30,
   "id": "08de7f4c",
   "metadata": {},
   "outputs": [
    {
     "data": {
      "text/html": [
       "<style>#sk-container-id-5 {color: black;}#sk-container-id-5 pre{padding: 0;}#sk-container-id-5 div.sk-toggleable {background-color: white;}#sk-container-id-5 label.sk-toggleable__label {cursor: pointer;display: block;width: 100%;margin-bottom: 0;padding: 0.3em;box-sizing: border-box;text-align: center;}#sk-container-id-5 label.sk-toggleable__label-arrow:before {content: \"▸\";float: left;margin-right: 0.25em;color: #696969;}#sk-container-id-5 label.sk-toggleable__label-arrow:hover:before {color: black;}#sk-container-id-5 div.sk-estimator:hover label.sk-toggleable__label-arrow:before {color: black;}#sk-container-id-5 div.sk-toggleable__content {max-height: 0;max-width: 0;overflow: hidden;text-align: left;background-color: #f0f8ff;}#sk-container-id-5 div.sk-toggleable__content pre {margin: 0.2em;color: black;border-radius: 0.25em;background-color: #f0f8ff;}#sk-container-id-5 input.sk-toggleable__control:checked~div.sk-toggleable__content {max-height: 200px;max-width: 100%;overflow: auto;}#sk-container-id-5 input.sk-toggleable__control:checked~label.sk-toggleable__label-arrow:before {content: \"▾\";}#sk-container-id-5 div.sk-estimator input.sk-toggleable__control:checked~label.sk-toggleable__label {background-color: #d4ebff;}#sk-container-id-5 div.sk-label input.sk-toggleable__control:checked~label.sk-toggleable__label {background-color: #d4ebff;}#sk-container-id-5 input.sk-hidden--visually {border: 0;clip: rect(1px 1px 1px 1px);clip: rect(1px, 1px, 1px, 1px);height: 1px;margin: -1px;overflow: hidden;padding: 0;position: absolute;width: 1px;}#sk-container-id-5 div.sk-estimator {font-family: monospace;background-color: #f0f8ff;border: 1px dotted black;border-radius: 0.25em;box-sizing: border-box;margin-bottom: 0.5em;}#sk-container-id-5 div.sk-estimator:hover {background-color: #d4ebff;}#sk-container-id-5 div.sk-parallel-item::after {content: \"\";width: 100%;border-bottom: 1px solid gray;flex-grow: 1;}#sk-container-id-5 div.sk-label:hover label.sk-toggleable__label {background-color: #d4ebff;}#sk-container-id-5 div.sk-serial::before {content: \"\";position: absolute;border-left: 1px solid gray;box-sizing: border-box;top: 0;bottom: 0;left: 50%;z-index: 0;}#sk-container-id-5 div.sk-serial {display: flex;flex-direction: column;align-items: center;background-color: white;padding-right: 0.2em;padding-left: 0.2em;position: relative;}#sk-container-id-5 div.sk-item {position: relative;z-index: 1;}#sk-container-id-5 div.sk-parallel {display: flex;align-items: stretch;justify-content: center;background-color: white;position: relative;}#sk-container-id-5 div.sk-item::before, #sk-container-id-5 div.sk-parallel-item::before {content: \"\";position: absolute;border-left: 1px solid gray;box-sizing: border-box;top: 0;bottom: 0;left: 50%;z-index: -1;}#sk-container-id-5 div.sk-parallel-item {display: flex;flex-direction: column;z-index: 1;position: relative;background-color: white;}#sk-container-id-5 div.sk-parallel-item:first-child::after {align-self: flex-end;width: 50%;}#sk-container-id-5 div.sk-parallel-item:last-child::after {align-self: flex-start;width: 50%;}#sk-container-id-5 div.sk-parallel-item:only-child::after {width: 0;}#sk-container-id-5 div.sk-dashed-wrapped {border: 1px dashed gray;margin: 0 0.4em 0.5em 0.4em;box-sizing: border-box;padding-bottom: 0.4em;background-color: white;}#sk-container-id-5 div.sk-label label {font-family: monospace;font-weight: bold;display: inline-block;line-height: 1.2em;}#sk-container-id-5 div.sk-label-container {text-align: center;}#sk-container-id-5 div.sk-container {/* jupyter's `normalize.less` sets `[hidden] { display: none; }` but bootstrap.min.css set `[hidden] { display: none !important; }` so we also need the `!important` here to be able to override the default hidden behavior on the sphinx rendered scikit-learn.org. See: https://github.com/scikit-learn/scikit-learn/issues/21755 */display: inline-block !important;position: relative;}#sk-container-id-5 div.sk-text-repr-fallback {display: none;}</style><div id=\"sk-container-id-5\" class=\"sk-top-container\"><div class=\"sk-text-repr-fallback\"><pre>DecisionTreeClassifier(class_weight=&#x27;balanced&#x27;, max_depth=3)</pre><b>In a Jupyter environment, please rerun this cell to show the HTML representation or trust the notebook. <br />On GitHub, the HTML representation is unable to render, please try loading this page with nbviewer.org.</b></div><div class=\"sk-container\" hidden><div class=\"sk-item\"><div class=\"sk-estimator sk-toggleable\"><input class=\"sk-toggleable__control sk-hidden--visually\" id=\"sk-estimator-id-5\" type=\"checkbox\" checked><label for=\"sk-estimator-id-5\" class=\"sk-toggleable__label sk-toggleable__label-arrow\">DecisionTreeClassifier</label><div class=\"sk-toggleable__content\"><pre>DecisionTreeClassifier(class_weight=&#x27;balanced&#x27;, max_depth=3)</pre></div></div></div></div></div>"
      ],
      "text/plain": [
       "DecisionTreeClassifier(class_weight='balanced', max_depth=3)"
      ]
     },
     "execution_count": 30,
     "metadata": {},
     "output_type": "execute_result"
    }
   ],
   "source": [
    "clf = DecisionTreeClassifier(max_depth=3, class_weight='balanced')\n",
    "clf.fit(X_train, y_train)"
   ]
  },
  {
   "cell_type": "code",
   "execution_count": 31,
   "id": "29f33ec1",
   "metadata": {},
   "outputs": [
    {
     "data": {
      "image/png": "[encoded data removed]",
      "text/plain": [
       "<Figure size 864x576 with 1 Axes>"
      ]
     },
     "metadata": {
      "needs_background": "light"
     },
     "output_type": "display_data"
    }
   ],
   "source": [
    "plt.figure(figsize=(12, 8))\n",
    "plot_tree(clf, feature_names=['Pauza'], class_names=['Zdravy', 'Alzheimer', 'Parkinson'], filled=True)\n",
    "plt.show()"
   ]
  },
  {
   "cell_type": "code",
   "execution_count": 32,
   "id": "2b26ac73",
   "metadata": {},
   "outputs": [],
   "source": [
    "y_pred = clf.predict(X_test)"
   ]
  },
  {
   "cell_type": "code",
   "execution_count": 33,
   "id": "0fcb5dfd",
   "metadata": {},
   "outputs": [
    {
     "name": "stdout",
     "output_type": "stream",
     "text": [
      "Presnosť modelu: 0.16\n",
      "\n",
      "              precision    recall  f1-score   support\n",
      "\n",
      "           0       1.00      0.11      0.19       142\n",
      "           1       0.07      1.00      0.13         6\n",
      "           2       0.06      0.50      0.10         6\n",
      "\n",
      "    accuracy                           0.16       154\n",
      "   macro avg       0.38      0.54      0.14       154\n",
      "weighted avg       0.93      0.16      0.19       154\n",
      "\n"
     ]
    }
   ],
   "source": [
    "accuracy = accuracy_score(y_test, y_pred)\n",
    "print(f'Presnosť modelu: {accuracy:.2f}')\n",
    "print('')\n",
    "print(classification_report(y_test, y_pred))"
   ]
  },
  {
   "cell_type": "code",
   "execution_count": 34,
   "id": "a64e316c",
   "metadata": {},
   "outputs": [],
   "source": [
    "cm = confusion_matrix(y_test, y_pred, labels=[0, 1, 2])"
   ]
  },
  {
   "cell_type": "code",
   "execution_count": 35,
   "id": "bd5fb884",
   "metadata": {},
   "outputs": [],
   "source": [
    "false_positives = np.sum(cm, axis=0) - np.diag(cm)\n",
    "false_negatives = np.sum(cm, axis=1) - np.diag(cm)\n",
    "true_positives = np.diag(cm)\n",
    "true_negatives = np.sum(cm) - (false_positives + false_negatives + true_positives)"
   ]
  },
  {
   "cell_type": "code",
   "execution_count": 36,
   "id": "0ca10fa6",
   "metadata": {
    "scrolled": false
   },
   "outputs": [
    {
     "data": {
      "image/png": "[encoded data removed]",
      "text/plain": [
       "<Figure size 432x288 with 1 Axes>"
      ]
     },
     "metadata": {
      "needs_background": "light"
     },
     "output_type": "display_data"
    },
    {
     "data": {
      "image/png": "[encoded data removed]",
      "text/plain": [
       "<Figure size 432x288 with 1 Axes>"
      ]
     },
     "metadata": {
      "needs_background": "light"
     },
     "output_type": "display_data"
    },
    {
     "data": {
      "image/png": "[encoded data removed]",
      "text/plain": [
       "<Figure size 432x288 with 1 Axes>"
      ]
     },
     "metadata": {
      "needs_background": "light"
     },
     "output_type": "display_data"
    }
   ],
   "source": [
    "labels = ['False Positives', 'False Negatives', 'True Positives', 'True Negatives']\n",
    "\n",
    "for i, class_name in enumerate(['Zdravý', 'Alzheimer', 'Parkinson']):\n",
    "    values = [false_positives[i], false_negatives[i], true_positives[i], true_negatives[i]]\n",
    "    \n",
    "    plt.figure(figsize=(6, 4))\n",
    "    plt.bar(labels, values)\n",
    "    plt.xlabel(\"\")\n",
    "    plt.ylabel(\"\")\n",
    "    plt.title(f\"{class_name}\")\n",
    "    plt.show()"
   ]
  },
  {
   "cell_type": "code",
   "execution_count": null,
   "id": "b1eae6c9",
   "metadata": {},
   "outputs": [],
   "source": []
  }
 ],
 "metadata": {
  "kernelspec": {
   "display_name": "Python 3",
   "language": "python",
   "name": "python3"
  },
  "language_info": {
   "codemirror_mode": {
    "name": "ipython",
    "version": 3
   },
   "file_extension": ".py",
   "mimetype": "text/x-python",
   "name": "python",
   "nbconvert_exporter": "python",
   "pygments_lexer": "ipython3",
   "version": "3.8.8"
  }
 },
 "nbformat": 4,
 "nbformat_minor": 5
}
